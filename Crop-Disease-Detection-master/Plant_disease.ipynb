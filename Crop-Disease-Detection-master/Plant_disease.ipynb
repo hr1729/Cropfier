{
 "cells": [
  {
   "cell_type": "code",
   "execution_count": 2,
   "metadata": {},
   "outputs": [
    {
     "name": "stderr",
     "output_type": "stream",
     "text": [
      "Using TensorFlow backend.\n"
     ]
    }
   ],
   "source": [
    "import numpy as np\n",
    "import pickle\n",
    "import cv2\n",
    "from os import listdir\n",
    "from sklearn.preprocessing import LabelBinarizer, MultiLabelBinarizer\n",
    "from keras.models import Sequential\n",
    "from keras.models import load_model\n",
    "from keras.layers.normalization import BatchNormalization\n",
    "from keras.layers.convolutional import Conv2D, MaxPooling2D\n",
    "from keras.layers.core import Activation, Flatten, Dropout, Dense\n",
    "from keras import backend as K\n",
    "from keras.preprocessing.image import ImageDataGenerator, img_to_array, array_to_img\n",
    "from keras.optimizers import Adam, SGD, Adagrad\n",
    "from keras.preprocessing import image\n",
    "from sklearn.model_selection import train_test_split\n",
    "import matplotlib.pyplot as plt\n",
    "\n",
    "from keras.models import Model\n",
    "from keras.applications.inception_v3 import InceptionV3\n",
    "from keras.applications.vgg16 import VGG16\n",
    "from keras.applications.resnet50 import ResNet50\n",
    "from keras.applications.xception import Xception\n",
    "from keras.layers import Conv2D, AveragePooling2D, GlobalAveragePooling2D\n",
    "#import cv2\n",
    "import keras\n",
    "import os\n",
    "#tf.logging.set_verbosity(tf.logging.ERROR)\n"
   ]
  },
  {
   "cell_type": "code",
   "execution_count": 3,
   "metadata": {},
   "outputs": [],
   "source": [
    "\n",
    "default_image_size = tuple((64,64))\n",
    "image_size = 0\n",
    "directory_root = '/home/cudacenter/TE/Aishwarya_Harpale/folder3/'\n",
    "width=64\n",
    "height=64\n",
    "depth=3"
   ]
  },
  {
   "cell_type": "code",
   "execution_count": 4,
   "metadata": {},
   "outputs": [],
   "source": [
    "def convert_image_to_array(image_dir):\n",
    "    try:\n",
    "        image = cv2.imread(image_dir)\n",
    "        if image is not None :\n",
    "            return cv2.resize(image, default_image_size)\n",
    "            #return img_to_array(image)\n",
    "        else:\n",
    "            return np.array([])\n",
    "        \n",
    "    except Exception as e:\n",
    "        print(\"Error : \".format(e))\n",
    "        return None"
   ]
  },
  {
   "cell_type": "code",
   "execution_count": 5,
   "metadata": {},
   "outputs": [
    {
     "name": "stdout",
     "output_type": "stream",
     "text": [
      "sys.version_info(major=3, minor=5, micro=2, releaselevel='final', serial=0)\n"
     ]
    }
   ],
   "source": [
    "import sys\n",
    "print(sys.version_info)"
   ]
  },
  {
   "cell_type": "code",
   "execution_count": 6,
   "metadata": {},
   "outputs": [
    {
     "name": "stdout",
     "output_type": "stream",
     "text": [
      "Loading images ...\n",
      "Processing Tomato___Bacterial_spot ...\n",
      "Processing Tomato___healthy ...\n",
      "Processing Tomato___Late_blight ...\n",
      "Processing Tomato___Tomato_Yellow_Leaf_Curl_Virus ...\n",
      "Processing Tomato___Spider_mites Two-spotted_spider_mite ...\n",
      "Processing Tomato___Tomato_mosaic_virus ...\n",
      "Processing Tomato___Leaf_Mold ...\n",
      "Processing Tomato___Early_blight ...\n",
      "Processing Tomato___Target_Spot ...\n",
      "Processing Tomato___Septoria_leaf_spot ...\n",
      "--- Loading images completed ---\n"
     ]
    }
   ],
   "source": [
    "image_list, label_list =[],[]\n",
    "try:\n",
    "    print(\"Loading images ...\")\n",
    "    root_dir = listdir(directory_root)\n",
    "    for directory in root_dir:\n",
    "        if directory == \".DS_Store\" :\n",
    "            root_dir.remove(directory)\n",
    "            \n",
    "    for plant_folder in root_dir :\n",
    "        #print('gh')\n",
    "#         plant_disease_folder_list = listdir(\" %(root)s/%(sub)s/\" %{'root':directory_root, 'sub':plant_folder})\n",
    "        plant_disease_folder_list = listdir(directory_root+'/'+plant_folder)\n",
    "        #print(plant_disease_folder_list)\n",
    "        \n",
    "        for disease_folder in plant_disease_folder_list:\n",
    "            if disease_folder == \".DS_Store\" :\n",
    "                plant_disease_folder_list.remove(disease_folder)\n",
    "                \n",
    "        for plant_disease_folder in plant_disease_folder_list:\n",
    "            print(\"Processing %s ...\" %plant_disease_folder)\n",
    "            plant_disease_image_list = listdir(directory_root+\"/\"+plant_folder+\"/\"+plant_disease_folder+\"/\")\n",
    "            #print('ghll')\n",
    "            \n",
    "            for single_plant_disease_image in plant_disease_image_list:\n",
    "                if single_plant_disease_image == \".DS_store\":\n",
    "                    plant_disease_image_list.remove(single_plant_disease_image)\n",
    "            \n",
    "            for image in plant_disease_image_list:\n",
    "                image_directory =directory_root+\"/\"+plant_folder+\"/\"+plant_disease_folder+\"/\"+image\n",
    "                #print(image_directory)\n",
    "                if image_directory.endswith(\".jpg\") == True or image_directory.endswith(\".JPG\") == True :\n",
    "                    image_list.append(convert_image_to_array(image_directory))\n",
    "                    label_list.append(plant_disease_folder)\n",
    "                    \n",
    "    print(\"--- Loading images completed ---\")\n",
    "    #print(label_list)\n",
    "    \n",
    "except Exception as e:\n",
    "    print(\"Error : \".format(e))"
   ]
  },
  {
   "cell_type": "code",
   "execution_count": 7,
   "metadata": {},
   "outputs": [],
   "source": [
    "image_size = len(image_list)"
   ]
  },
  {
   "cell_type": "code",
   "execution_count": 8,
   "metadata": {},
   "outputs": [
    {
     "name": "stdout",
     "output_type": "stream",
     "text": [
      "['Tomato___Bacterial_spot' 'Tomato___Early_blight' 'Tomato___Late_blight'\n",
      " 'Tomato___Leaf_Mold' 'Tomato___Septoria_leaf_spot'\n",
      " 'Tomato___Spider_mites Two-spotted_spider_mite' 'Tomato___Target_Spot'\n",
      " 'Tomato___Tomato_Yellow_Leaf_Curl_Virus' 'Tomato___Tomato_mosaic_virus'\n",
      " 'Tomato___healthy']\n"
     ]
    }
   ],
   "source": [
    "label_binarizer = LabelBinarizer()\n",
    "image_labels = label_binarizer.fit_transform(label_list)\n",
    "#pickle.dump(label_binarizer, open('label_transform.pk1','wb'))\n",
    "n_classes = len(label_binarizer.classes_)\n",
    "\n",
    "print(label_binarizer.classes_)\n",
    "#print"
   ]
  },
  {
   "cell_type": "code",
   "execution_count": 9,
   "metadata": {},
   "outputs": [
    {
     "name": "stdout",
     "output_type": "stream",
     "text": [
      "[[22. 28.]\n",
      " [49. 64.]]\n"
     ]
    }
   ],
   "source": [
    "import tensorflow as tf\n",
    "with tf.device('/gpu:0'):\n",
    "    a = tf.constant([1.0, 2.0, 3.0, 4.0, 5.0, 6.0], shape=[2, 3], name='a')\n",
    "    b = tf.constant([1.0, 2.0, 3.0, 4.0, 5.0, 6.0], shape=[3, 2], name='b')\n",
    "    c = tf.matmul(a, b)\n",
    "with tf.Session() as sess:\n",
    "    print (sess.run(c))"
   ]
  },
  {
   "cell_type": "code",
   "execution_count": 10,
   "metadata": {},
   "outputs": [],
   "source": [
    "\n",
    "# from PIL import Image\n",
    "# for i in range(10):\n",
    "#     image_list[i].shape\n",
    "#     img = Image.fromarray(image_list[i], 'RGB')\n",
    "#     img.save('my'+str(i)+'.png')"
   ]
  },
  {
   "cell_type": "code",
   "execution_count": 11,
   "metadata": {},
   "outputs": [],
   "source": [
    "np_image_list = np.array(image_list, dtype=np.float16)/225.0 #255?"
   ]
  },
  {
   "cell_type": "code",
   "execution_count": 12,
   "metadata": {},
   "outputs": [
    {
     "name": "stdout",
     "output_type": "stream",
     "text": [
      "Splitting data\n"
     ]
    }
   ],
   "source": [
    "print(\"Splitting data\")\n",
    "x_train, x_test, y_train, y_test= train_test_split(np_image_list, image_labels, test_size =0.2, random_state=42)"
   ]
  },
  {
   "cell_type": "code",
   "execution_count": 13,
   "metadata": {
    "scrolled": true
   },
   "outputs": [
    {
     "name": "stdout",
     "output_type": "stream",
     "text": [
      "14527\n",
      "(14527, 64, 64, 3)\n",
      "10\n"
     ]
    }
   ],
   "source": [
    "print(len(x_train))\n",
    "print(x_train.shape)\n",
    "print(n_classes)"
   ]
  },
  {
   "cell_type": "code",
   "execution_count": 14,
   "metadata": {},
   "outputs": [],
   "source": [
    "aug = ImageDataGenerator(\n",
    "    rotation_range=5, width_shift_range=0.1,\n",
    "    height_shift_range = 0.1,\n",
    "    horizontal_flip = True,\n",
    "    )"
   ]
  },
  {
   "cell_type": "code",
   "execution_count": 15,
   "metadata": {},
   "outputs": [],
   "source": [
    "# aug = ImageDataGenerator(\n",
    "#     rotation_range=0, width_shift_range=0,\n",
    "#     height_shift_range = 0, shear_range=0,\n",
    "#     zoom_range=0, horizontal_flip = True,\n",
    "#     fill_mode='nearest')"
   ]
  },
  {
   "cell_type": "code",
   "execution_count": 16,
   "metadata": {},
   "outputs": [
    {
     "name": "stdout",
     "output_type": "stream",
     "text": [
      "Model: \"sequential_1\"\n",
      "_________________________________________________________________\n",
      "Layer (type)                 Output Shape              Param #   \n",
      "=================================================================\n",
      "conv2d_1 (Conv2D)            (None, 64, 64, 32)        896       \n",
      "_________________________________________________________________\n",
      "batch_normalization_1 (Batch (None, 64, 64, 32)        128       \n",
      "_________________________________________________________________\n",
      "activation_1 (Activation)    (None, 64, 64, 32)        0         \n",
      "_________________________________________________________________\n",
      "max_pooling2d_1 (MaxPooling2 (None, 21, 21, 32)        0         \n",
      "_________________________________________________________________\n",
      "dropout_1 (Dropout)          (None, 21, 21, 32)        0         \n",
      "_________________________________________________________________\n",
      "conv2d_2 (Conv2D)            (None, 21, 21, 64)        18496     \n",
      "_________________________________________________________________\n",
      "batch_normalization_2 (Batch (None, 21, 21, 64)        256       \n",
      "_________________________________________________________________\n",
      "activation_2 (Activation)    (None, 21, 21, 64)        0         \n",
      "_________________________________________________________________\n",
      "conv2d_3 (Conv2D)            (None, 21, 21, 64)        36928     \n",
      "_________________________________________________________________\n",
      "batch_normalization_3 (Batch (None, 21, 21, 64)        256       \n",
      "_________________________________________________________________\n",
      "activation_3 (Activation)    (None, 21, 21, 64)        0         \n",
      "_________________________________________________________________\n",
      "max_pooling2d_2 (MaxPooling2 (None, 10, 10, 64)        0         \n",
      "_________________________________________________________________\n",
      "batch_normalization_4 (Batch (None, 10, 10, 64)        256       \n",
      "_________________________________________________________________\n",
      "dropout_2 (Dropout)          (None, 10, 10, 64)        0         \n",
      "_________________________________________________________________\n",
      "conv2d_4 (Conv2D)            (None, 10, 10, 128)       73856     \n",
      "_________________________________________________________________\n",
      "batch_normalization_5 (Batch (None, 10, 10, 128)       512       \n",
      "_________________________________________________________________\n",
      "activation_4 (Activation)    (None, 10, 10, 128)       0         \n",
      "_________________________________________________________________\n",
      "conv2d_5 (Conv2D)            (None, 10, 10, 128)       147584    \n",
      "_________________________________________________________________\n",
      "batch_normalization_6 (Batch (None, 10, 10, 128)       512       \n",
      "_________________________________________________________________\n",
      "activation_5 (Activation)    (None, 10, 10, 128)       0         \n",
      "_________________________________________________________________\n",
      "max_pooling2d_3 (MaxPooling2 (None, 5, 5, 128)         0         \n",
      "_________________________________________________________________\n",
      "batch_normalization_7 (Batch (None, 5, 5, 128)         512       \n",
      "_________________________________________________________________\n",
      "dropout_3 (Dropout)          (None, 5, 5, 128)         0         \n",
      "_________________________________________________________________\n",
      "flatten_1 (Flatten)          (None, 3200)              0         \n",
      "_________________________________________________________________\n",
      "dense_1 (Dense)              (None, 256)               819456    \n",
      "_________________________________________________________________\n",
      "batch_normalization_8 (Batch (None, 256)               1024      \n",
      "_________________________________________________________________\n",
      "activation_6 (Activation)    (None, 256)               0         \n",
      "_________________________________________________________________\n",
      "dropout_4 (Dropout)          (None, 256)               0         \n",
      "_________________________________________________________________\n",
      "dense_2 (Dense)              (None, 512)               131584    \n",
      "_________________________________________________________________\n",
      "batch_normalization_9 (Batch (None, 512)               2048      \n",
      "_________________________________________________________________\n",
      "activation_7 (Activation)    (None, 512)               0         \n",
      "_________________________________________________________________\n",
      "dropout_5 (Dropout)          (None, 512)               0         \n",
      "_________________________________________________________________\n",
      "dense_3 (Dense)              (None, 10)                5130      \n",
      "_________________________________________________________________\n",
      "activation_8 (Activation)    (None, 10)                0         \n",
      "=================================================================\n",
      "Total params: 1,239,434\n",
      "Trainable params: 1,236,682\n",
      "Non-trainable params: 2,752\n",
      "_________________________________________________________________\n"
     ]
    }
   ],
   "source": [
    "model = Sequential()\n",
    "inputShape = (height, width, depth)\n",
    "chanDim = -1\n",
    "if K.image_data_format() == \"channels_first\":\n",
    "    inputShape = (depth, height, width)\n",
    "    chanDim= 1\n",
    "    \n",
    "model.add(Conv2D(32, (3, 3), padding=\"same\",input_shape=inputShape))\n",
    "model.add(BatchNormalization(axis=chanDim))\n",
    "model.add(Activation(\"relu\"))\n",
    "\n",
    "model.add(MaxPooling2D(pool_size=(3, 3)))\n",
    "model.add(Dropout(0.25))\n",
    "\n",
    "model.add(Conv2D(64, (3, 3), padding=\"same\"))\n",
    "model.add(BatchNormalization(axis=chanDim))\n",
    "model.add(Activation(\"relu\"))\n",
    "\n",
    "model.add(Conv2D(64, (3, 3), padding=\"same\"))\n",
    "model.add(BatchNormalization(axis=chanDim))\n",
    "model.add(Activation(\"relu\"))\n",
    "\n",
    "model.add(MaxPooling2D(pool_size=(2, 2)))\n",
    "model.add(BatchNormalization())\n",
    "model.add(Dropout(0.25))\n",
    "\n",
    "model.add(Conv2D(128, (3, 3), padding=\"same\"))\n",
    "model.add(BatchNormalization(axis=chanDim))\n",
    "model.add(Activation(\"relu\"))\n",
    "\n",
    "model.add(Conv2D(128, (3, 3), padding=\"same\"))\n",
    "model.add(BatchNormalization(axis=chanDim))\n",
    "model.add(Activation(\"relu\"))\n",
    "\n",
    "model.add(MaxPooling2D(pool_size=(2, 2)))\n",
    "model.add(BatchNormalization())\n",
    "model.add(Dropout(0.25))\n",
    "\n",
    "model.add(Flatten())\n",
    "model.add(Dense(256))\n",
    "model.add(BatchNormalization())\n",
    "model.add(Activation(\"relu\"))\n",
    "model.add(Dropout(0.4))\n",
    "\n",
    "model.add(Dense(512))\n",
    "model.add(BatchNormalization())\n",
    "model.add(Activation(\"relu\"))\n",
    "model.add(Dropout(0.4))\n",
    "\n",
    "model.add(Dense(n_classes))\n",
    "model.add(Activation(\"softmax\"))\n",
    "\n",
    "model.summary()"
   ]
  },
  {
   "cell_type": "code",
   "execution_count": 17,
   "metadata": {},
   "outputs": [
    {
     "data": {
      "text/plain": [
       "10"
      ]
     },
     "execution_count": 17,
     "metadata": {},
     "output_type": "execute_result"
    }
   ],
   "source": [
    "n_classes"
   ]
  },
  {
   "cell_type": "code",
   "execution_count": 18,
   "metadata": {},
   "outputs": [],
   "source": [
    "# # base_model = VGG16(weights='imagenet', include_top=False)\n",
    "# #base_model = Alex(weights='imagenet', include_top=False)\n",
    "# base_model = InceptionV3(weights='imagenet', include_top=False, input_shape = (64,64,3) )\n",
    "# #base_model = Xception(include_top=False, weights='imagenet')\n",
    "# x = base_model.output\n",
    "# x = GlobalAveragePooling2D()(x)\n",
    "# # let's add a fully-connected layer\n",
    "# x = Dense(75, activation='relu')(x)\n",
    "# y = Dropout(0.3)(x)\n",
    "# # and a logistic layer -- let's say we have 10 classes\n",
    "# predictions = Dense(n_classes, activation='softmax')(y)\n",
    "\n",
    "# model = Model(inputs=base_model.input, outputs=predictions)\n",
    "# print(base_model.input)\n",
    "# # for layser in model.layers:\n",
    "# #    layer.trainable = True\n",
    "# model.summary()"
   ]
  },
  {
   "cell_type": "code",
   "execution_count": 19,
   "metadata": {},
   "outputs": [],
   "source": [
    "# incept = keras.applications.inception_v3.InceptionV3(include_top=False, weights='imagenet', input_tensor=None, input_shape=None, pooling=None)#, classes=1000)"
   ]
  },
  {
   "cell_type": "code",
   "execution_count": 34,
   "metadata": {},
   "outputs": [
    {
     "name": "stdout",
     "output_type": "stream",
     "text": [
      "Training...\n"
     ]
    }
   ],
   "source": [
    "EPOCHS = 30\n",
    "INIT_LR = 0.001\n",
    "BS = 32\n",
    "#opt = SGD(lr=INIT_LR, decay=1e-6, momentum=0.9, nesterov=True)\n",
    "#opt = Adagrad(lr=INIT_LR)\n",
    "opt=Adam(lr=INIT_LR)#, decay=INIT_LR / EPOCHS)\n",
    "model.compile(loss='categorical_crossentropy', optimizer=opt, metrics=[\"accuracy\"])\n",
    "\n",
    "print(\"Training...\")"
   ]
  },
  {
   "cell_type": "code",
   "execution_count": 21,
   "metadata": {},
   "outputs": [],
   "source": [
    "#y_test"
   ]
  },
  {
   "cell_type": "code",
   "execution_count": 35,
   "metadata": {},
   "outputs": [
    {
     "name": "stdout",
     "output_type": "stream",
     "text": [
      "Epoch 1/30\n",
      "40/40 [==============================] - 14s 345ms/step - loss: 0.5253 - acc: 0.8266 - val_loss: 2.2763 - val_acc: 0.5531\n",
      "Epoch 2/30\n",
      "40/40 [==============================] - 5s 132ms/step - loss: 0.4957 - acc: 0.8352 - val_loss: 2.4362 - val_acc: 0.5834\n",
      "Epoch 3/30\n",
      "40/40 [==============================] - 5s 132ms/step - loss: 0.4460 - acc: 0.8516 - val_loss: 0.6972 - val_acc: 0.7927\n",
      "Epoch 4/30\n",
      "40/40 [==============================] - 5s 133ms/step - loss: 0.5034 - acc: 0.8350 - val_loss: 1.7930 - val_acc: 0.6401\n",
      "Epoch 5/30\n",
      "40/40 [==============================] - 5s 131ms/step - loss: 0.4676 - acc: 0.8305 - val_loss: 1.5496 - val_acc: 0.6090\n",
      "Epoch 6/30\n",
      "40/40 [==============================] - 5s 131ms/step - loss: 0.4739 - acc: 0.8258 - val_loss: 4.0627 - val_acc: 0.4518\n",
      "Epoch 7/30\n",
      "40/40 [==============================] - 5s 133ms/step - loss: 0.4729 - acc: 0.8391 - val_loss: 2.0439 - val_acc: 0.6096\n",
      "Epoch 8/30\n",
      "40/40 [==============================] - 5s 135ms/step - loss: 0.4762 - acc: 0.8375 - val_loss: 3.7742 - val_acc: 0.4306\n",
      "Epoch 9/30\n",
      "40/40 [==============================] - 5s 137ms/step - loss: 0.4432 - acc: 0.8375 - val_loss: 1.7693 - val_acc: 0.6112\n",
      "Epoch 10/30\n",
      "40/40 [==============================] - 6s 138ms/step - loss: 0.4345 - acc: 0.8477 - val_loss: 1.5020 - val_acc: 0.6845\n",
      "Epoch 11/30\n",
      "40/40 [==============================] - 6s 138ms/step - loss: 0.4356 - acc: 0.8492 - val_loss: 0.9759 - val_acc: 0.7307\n",
      "Epoch 12/30\n",
      "40/40 [==============================] - 5s 137ms/step - loss: 0.3940 - acc: 0.8633 - val_loss: 0.8703 - val_acc: 0.7690\n",
      "Epoch 13/30\n",
      "40/40 [==============================] - 5s 132ms/step - loss: 0.4037 - acc: 0.8633 - val_loss: 1.1162 - val_acc: 0.7046\n",
      "Epoch 14/30\n",
      "40/40 [==============================] - 5s 136ms/step - loss: 0.4004 - acc: 0.8680 - val_loss: 1.9714 - val_acc: 0.5738\n",
      "Epoch 15/30\n",
      "40/40 [==============================] - 5s 135ms/step - loss: 0.3509 - acc: 0.8826 - val_loss: 0.4849 - val_acc: 0.8348\n",
      "Epoch 16/30\n",
      "40/40 [==============================] - 5s 135ms/step - loss: 0.3911 - acc: 0.8734 - val_loss: 6.1176 - val_acc: 0.2883\n",
      "Epoch 17/30\n",
      "40/40 [==============================] - 5s 135ms/step - loss: 0.3782 - acc: 0.8711 - val_loss: 0.9632 - val_acc: 0.7037\n",
      "Epoch 18/30\n",
      "40/40 [==============================] - 5s 135ms/step - loss: 0.2962 - acc: 0.9008 - val_loss: 0.7578 - val_acc: 0.7442\n",
      "Epoch 19/30\n",
      "40/40 [==============================] - 5s 135ms/step - loss: 0.3680 - acc: 0.8781 - val_loss: 2.3710 - val_acc: 0.6024\n",
      "Epoch 20/30\n",
      "40/40 [==============================] - 5s 133ms/step - loss: 0.3361 - acc: 0.8844 - val_loss: 5.8974 - val_acc: 0.3012\n",
      "Epoch 21/30\n",
      "40/40 [==============================] - 5s 135ms/step - loss: 0.3754 - acc: 0.8703 - val_loss: 1.0828 - val_acc: 0.6966\n",
      "Epoch 22/30\n",
      "40/40 [==============================] - 5s 133ms/step - loss: 0.3509 - acc: 0.8805 - val_loss: 5.1518 - val_acc: 0.2037\n",
      "Epoch 23/30\n",
      "40/40 [==============================] - 5s 134ms/step - loss: 0.3347 - acc: 0.8844 - val_loss: 0.9308 - val_acc: 0.6905\n",
      "Epoch 24/30\n",
      "40/40 [==============================] - 5s 133ms/step - loss: 0.3200 - acc: 0.8906 - val_loss: 2.7018 - val_acc: 0.4950\n",
      "Epoch 25/30\n",
      "40/40 [==============================] - 5s 134ms/step - loss: 0.3350 - acc: 0.8906 - val_loss: 2.6954 - val_acc: 0.5226\n",
      "Epoch 26/30\n",
      "40/40 [==============================] - 5s 132ms/step - loss: 0.3064 - acc: 0.8992 - val_loss: 0.4087 - val_acc: 0.8659\n",
      "Epoch 27/30\n",
      "40/40 [==============================] - 5s 133ms/step - loss: 0.3378 - acc: 0.8945 - val_loss: 3.9231 - val_acc: 0.4733\n",
      "Epoch 28/30\n",
      "40/40 [==============================] - 5s 136ms/step - loss: 0.3213 - acc: 0.8906 - val_loss: 0.8408 - val_acc: 0.7759\n",
      "Epoch 29/30\n",
      "40/40 [==============================] - 5s 133ms/step - loss: 0.2924 - acc: 0.9055 - val_loss: 1.5466 - val_acc: 0.7123\n",
      "Epoch 30/30\n",
      "40/40 [==============================] - 5s 133ms/step - loss: 0.2844 - acc: 0.9055 - val_loss: 6.7531 - val_acc: 0.2764\n"
     ]
    }
   ],
   "source": [
    "history = model.fit_generator(\n",
    "    aug.flow(x_train, y_train, batch_size=BS),\n",
    "    validation_data=(x_test, y_test),\n",
    "#    steps_per_epoch=len(x_train) /BS,\n",
    "    steps_per_epoch=40,\n",
    "    epochs=EPOCHS, verbose=1\n",
    "    )"
   ]
  },
  {
   "cell_type": "code",
   "execution_count": null,
   "metadata": {},
   "outputs": [],
   "source": [
    "# def step_decay(epoch):\n",
    "#     initial_lrate=0.001\n",
    "#     drop=0.1\n",
    "#     epochs_drop=16.0\n",
    "#     lrate=initial_lrate * math.pow(drop,math.floor((1+epoch)/epochs_drop))\n",
    "#     return lrate"
   ]
  },
  {
   "cell_type": "code",
   "execution_count": null,
   "metadata": {},
   "outputs": [],
   "source": [
    "# data_aug = False\n",
    "# #model.compile(loss='categorical_crossentropy',optimizer=Adam(lr=0.001,decay = 1e-03),metrics=['accuracy'])\n",
    "\n",
    "# if not data_aug:\n",
    "#     print('Not using real-time data augmentation.')\n",
    "#     history = model.fit(x_train,y_train,validation_data=(x_test,y_test),batch_size=8,epochs=15,verbose=2,steps_per_epoch=None)\n",
    "    \n",
    "\n",
    "# else:\n",
    "#     print('Using real-time data augmentation.')\n",
    "#     lr=keras.callbacks.LearningRateScheduler(step_decay)#,verbose=1)\n",
    "#    # This will do preprocessing and realtime data augmentation:\n",
    "# #     tbCallback=keras.callbacks.TensorBoard(log_dir='./Logs/Tensorboard_Logs', histogram_freq=0, \n",
    "# #                                            batch_size=32, write_graph=False, write_grads=False, \n",
    "# #                                            write_images=False, embeddings_freq=0, embeddings_layer_names=None, \n",
    "# #                                            embeddings_metadata=None)\n",
    "# #     checkpoint=keras.callbacks.ModelCheckpoint('./Logs/Checkpoint', monitor='val_loss', \n",
    "# #                                                verbose=0, save_best_only=False, \n",
    "# #                                                save_weights_only=False, \n",
    "# #                                                mode='auto',\n",
    "# #                                                period=1)\n",
    "\n",
    "#     datagen = ImageDataGenerator(\n",
    "#         featurewise_center=False,  # set input mean to 0 over the dataset\n",
    "#         samplewise_center=False,  # set each sample mean to 0\n",
    "#         featurewise_std_normalization=False,  # divide inputs by std of the dataset\n",
    "#         samplewise_std_normalization=False,  # divide each input by its std\n",
    "#         zca_whitening=False,  # apply ZCA whitening\n",
    "#         rotation_range=180,  # randomly rotate images in the range (degrees, 0 to 180)\n",
    "#         width_shift_range=0.5,  # randomly shift images horizontally (fraction of total width)\n",
    "#         height_shift_range=0.5,  # randomly shift images vertically (fraction of total height)\n",
    "#         horizontal_flip=True,  # randomly flip images\n",
    "#         vertical_flip=True)  # randomly flip images\n",
    "\n",
    "\n",
    "# #     Compute quantities required for feature-wise normalization\n",
    "# #     (std, mean, and principal components if ZCA whitening is applied).\n",
    "#     datagen.fit(x_train)\n",
    "\n",
    "#     # Fit the model on the batches generated by datagen.flow().\n",
    "#     history = model.fit_generator(datagen.flow(x_train, y_train,batch_size=16),steps_per_epoch=20,epochs=10, validation_data=(x_test,y_test),workers=4)\n",
    "\n"
   ]
  },
  {
   "cell_type": "code",
   "execution_count": 36,
   "metadata": {},
   "outputs": [
    {
     "data": {
      "image/png": "[encoded data removed]",
      "text/plain": [
       "<Figure size 432x288 with 1 Axes>"
      ]
     },
     "metadata": {
      "needs_background": "light"
     },
     "output_type": "display_data"
    },
    {
     "data": {
      "image/png": "[encoded data removed]",
      "text/plain": [
       "<Figure size 432x288 with 1 Axes>"
      ]
     },
     "metadata": {
      "needs_background": "light"
     },
     "output_type": "display_data"
    }
   ],
   "source": [
    "acc= history.history['acc']\n",
    "val_acc=history.history['val_acc']\n",
    "loss= history.history['loss']\n",
    "val_loss=history.history['val_loss']\n",
    "epochs = range(1, len(acc)+1)\n",
    "plt.plot(epochs,acc,'b', label=\"Training accuracy\")\n",
    "plt.plot(epochs,val_acc,'r', label=\"Validation accuracy\")\n",
    "plt.title(\"Training and validation accuracy\")\n",
    "plt.legend()\n",
    "\n",
    "plt.figure()\n",
    "plt.plot(epochs,loss,'b', label=\"Training loss\")\n",
    "plt.plot(epochs,val_loss,'r', label=\"Validation loss\")\n",
    "plt.legend()\n",
    "plt.show()"
   ]
  },
  {
   "cell_type": "code",
   "execution_count": 37,
   "metadata": {},
   "outputs": [
    {
     "name": "stdout",
     "output_type": "stream",
     "text": [
      "Calculating model accuracy...\n",
      "14527/14527 [==============================] - 6s 442us/step\n",
      "3632/3632 [==============================] - 2s 441us/step\n",
      "[6.674056484537262, 0.2695670131315193]\n",
      "[6.753091522250407, 0.276431718061674]\n"
     ]
    }
   ],
   "source": [
    "print(\"Calculating model accuracy...\")\n",
    "scores_tr = model.evaluate(x_train, y_train)\n",
    "scores_te = model.evaluate(x_test,y_test)\n",
    "#print(\"Test Accuracy:\".format( {scores[1]*100}))\n",
    "print(scores_tr)\n",
    "print(scores_te)"
   ]
  },
  {
   "cell_type": "code",
   "execution_count": 51,
   "metadata": {},
   "outputs": [],
   "source": [
    "#print(\"Saving model...\")\n",
    "#pickle.dump(model,open('cnn_model.pk1','wb'))\n",
    "\n",
    "model.save('my_model.h5') "
   ]
  }
 ],
 "metadata": {
  "kernelspec": {
   "display_name": "Python 3",
   "language": "python",
   "name": "python3"
  },
  "language_info": {
   "codemirror_mode": {
    "name": "ipython",
    "version": 3
   },
   "file_extension": ".py",
   "mimetype": "text/x-python",
   "name": "python",
   "nbconvert_exporter": "python",
   "pygments_lexer": "ipython3",
   "version": "3.6.8"
  }
 },
 "nbformat": 4,
 "nbformat_minor": 2
}
